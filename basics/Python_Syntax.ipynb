{
 "cells": [
  {
   "cell_type": "markdown",
   "metadata": {},
   "source": [
    "# Python Syntax\n",
    "### Python Multiline Statements\n",
    "As we saw that in Python, a new line simply means that a new statement has started. Although, Python does provide a way to split a statement into a multiline statement or to join multiple statements into one logical line. This can be helpful to increase the readability of the statement. Following are the two ways to split a line into two or more lines:\n",
    "#### Explicit Line Joining\n",
    "\n",
    "In explicit line joining, we use a backward slash to split a statement into a multiline statement.\n",
    "\n",
    "Example:"
   ]
  },
  {
   "cell_type": "code",
   "execution_count": 1,
   "metadata": {},
   "outputs": [
    {
     "name": "stdout",
     "output_type": "stream",
     "text": [
      "thisis a python coding example\n"
     ]
    }
   ],
   "source": [
    "print (\"this\\\n",
    "is a python coding example\")"
   ]
  },
  {
   "cell_type": "markdown",
   "metadata": {},
   "source": [
    "We can also use explicit line joining to join two or more physical lines into a logical line, using back slash.\n",
    "#### Implicit Line Joining\n",
    "Statements that reside inside [], {}, or () parentheses can be broken down into two or more physical lines without using a back slash.\n",
    "\n",
    "Example:"
   ]
  },
  {
   "cell_type": "code",
   "execution_count": 4,
   "metadata": {},
   "outputs": [],
   "source": [
    "months = [' January', 'February',\n",
    "'March', 'April']"
   ]
  },
  {
   "cell_type": "markdown",
   "metadata": {},
   "source": [
    "#### Multiple Statements on a Single Line\n",
    "In Python, it is possible to club multiple statements in the same line using a semi-colon; however, most programmers do not consider this to be a good practice as it reduces the readability of the code.\n",
    "\n",
    "Example:"
   ]
  },
  {
   "cell_type": "code",
   "execution_count": 5,
   "metadata": {},
   "outputs": [
    {
     "name": "stdout",
     "output_type": "stream",
     "text": [
      "10\n",
      "30\n"
     ]
    }
   ],
   "source": [
    "a=10; b=30;\n",
    "print(a); print(b);"
   ]
  },
  {
   "cell_type": "markdown",
   "metadata": {},
   "source": [
    "#### Whitespaces and Indentation\n",
    "Unlike most of the programming languages, Python uses indentation to mark a block of code. According to Python coding style guideline or PEP8, we should keep an indent size of four.\n",
    "\n",
    "Most of the programming languages provide indentation for better code formatting and don’t enforce to have it. But in Python it is mandatory. This is why indentation is so crucial in Python.\n",
    "\n",
    "For example, if we run the following code, we will get an error of ‘expected indentation’:"
   ]
  },
  {
   "cell_type": "code",
   "execution_count": 7,
   "metadata": {},
   "outputs": [
    {
     "ename": "IndentationError",
     "evalue": "expected an indented block (<ipython-input-7-baab4ac5d2ea>, line 3)",
     "output_type": "error",
     "traceback": [
      "\u001b[0;36m  File \u001b[0;32m\"<ipython-input-7-baab4ac5d2ea>\"\u001b[0;36m, line \u001b[0;32m3\u001b[0m\n\u001b[0;31m    print(\"There is no indentation in this statement\")\u001b[0m\n\u001b[0m        ^\u001b[0m\n\u001b[0;31mIndentationError\u001b[0m\u001b[0;31m:\u001b[0m expected an indented block\n"
     ]
    }
   ],
   "source": [
    "a=1\n",
    "if a>0 :\n",
    "print(\"There is no indentation in this statement\")"
   ]
  },
  {
   "cell_type": "markdown",
   "metadata": {},
   "source": [
    "#### Identifiers\n",
    "Identifiers in Python are nothing but user-defined names to represent programmable entities like (Python Variables, Python Functions, Python Class, Python Modules), or any other objects. But, there are a few rules that we need to follow while defining an identifier. They are:\n",
    "- We can use a sequence of letters [lowercase (a to z) or uppercase (A to Z)], and we can also mix up digits (0 to 9) or an underscore (_) while defining an identifier.\n",
    "- We can’t use digits to begin an identifier’s name.\n",
    "- We should not use Reserved Keywords to define an identifier.\n",
    "- Other than underscore (_), we are not allowed to use any other special characters.\n",
    "- Even though python doc says that we can name an identifier with unlimited length, it is not entirely true. Using a large name (more than 79 chars) would lead to the violation of a rule set by the PEP8 standard.\n",
    "#### Reserved Words\n",
    "Reserved words are nothing but a set of special words, which are reserved by Python and have specific meanings. Remember that we are not allowed to use keywords as Variables in Python.\n",
    "\n",
    "Reserved words in Python are case sensitive. Following table shows all these reserved words used in Python.\n",
    "\n",
    "|[]()|[]()|[]()|[]()|[]()|\n",
    "|---|---|---|---|---|\n",
    "|False|\tclass|finally|is|\treturn|\n",
    "|None|\tcontinue|\tfor|\tlambda|\ttry|\n",
    "|True|\tdef|\tfrom|\tnon| local|\twhile|\n",
    "|and|\tdel|\tglobal|\tnot|\twith|\n",
    "|as|\tel|\tif|\tor|\tyield|\n",
    "|assert|\telse|\timport|\tpass||\n",
    "|break|\texcept|\tin|\traise||\t"
   ]
  }
 ],
 "metadata": {
  "kernelspec": {
   "display_name": "Python 3",
   "language": "python",
   "name": "python3"
  },
  "language_info": {
   "codemirror_mode": {
    "name": "ipython",
    "version": 3
   },
   "file_extension": ".py",
   "mimetype": "text/x-python",
   "name": "python",
   "nbconvert_exporter": "python",
   "pygments_lexer": "ipython3",
   "version": "3.7.3"
  }
 },
 "nbformat": 4,
 "nbformat_minor": 2
}
