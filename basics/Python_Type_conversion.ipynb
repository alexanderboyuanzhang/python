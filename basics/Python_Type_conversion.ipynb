{
 "cells": [
  {
   "cell_type": "markdown",
   "metadata": {},
   "source": [
    "# Type conversion in Python"
   ]
  },
  {
   "cell_type": "markdown",
   "metadata": {},
   "source": [
    "References: https://intellipaat.com/tutorial/python-tutorial/type-conversion-in-python/\n",
    "\n",
    "|Function|Description|\n",
    "|---|---|\n",
    "|int(y [base])\t|It converts y to an integer, and Base specifies the number base. <br/> For example, if you want to convert the string in decimal number then you’ll use 10 as base.|\n",
    "|float(y)\t|It converts y to a floating-point number.|\n",
    "|complex(real [imag])|\tIt creates a complex number.|\n",
    "|str(y)|\tIt converts y to a string.|\n",
    "|tuple(y)|\tIt converts y to a tuple.|\n",
    "|list(y)|\tIt converts y to a list.|\n",
    "|set(y)\t|It converts y to a set.|\n",
    "|dict(y)|\tIt creates a dictionary and y should be a sequence of (key,value) tuples.|||\n",
    "|ord(y)\t|It converts a character into an integer.|\n",
    "|hex(y)\t|It converts an integer to a hexadecimal string.|\n",
    "|oct(y)|\tIt converts an integer to an octal string|"
   ]
  }
 ],
 "metadata": {
  "kernelspec": {
   "display_name": "Python 3",
   "language": "python",
   "name": "python3"
  },
  "language_info": {
   "codemirror_mode": {
    "name": "ipython",
    "version": 3
   },
   "file_extension": ".py",
   "mimetype": "text/x-python",
   "name": "python",
   "nbconvert_exporter": "python",
   "pygments_lexer": "ipython3",
   "version": "3.7.3"
  }
 },
 "nbformat": 4,
 "nbformat_minor": 2
}
