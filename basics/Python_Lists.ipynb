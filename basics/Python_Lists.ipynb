{
 "cells": [
  {
   "cell_type": "markdown",
   "metadata": {},
   "source": [
    "# List in Python\n",
    "Ref: https://intellipaat.com/tutorial/python-tutorial/python-lists/\n",
    "\n",
    "Lists are Python’s most flexible ordered collection object type. It can also be referred to as a sequence that is an ordered collection of objects that can host objects of any data type, such as Python Numbers, Python Strings and nested lists as well. Lists are one of the most used and versatile Python Data Types. In this module, we will learn all about lists in order to get started with them."
   ]
  },
  {
   "cell_type": "markdown",
   "metadata": {},
   "source": [
    "Following is the list of all topics that are going to be covered in this module.\n",
    "\n",
    "- Creating_Lists_in_Python\n",
    "- Creating Multi-dimensional Lists in Python\n",
    "- Python List Comprehension\n",
    "- Python Lists Extension\n",
    "- Accessing Lists in Python\n",
    "- Common_List_Operations_in_Python\n",
    "    - Slicing Python Lists\n",
    "    - Iterating through Python Lists\n",
    "    - Update or Add Elements in a Python List\n",
    "    - Remove elements from list in python\n",
    "    - Remove duplicates from lists in python\n",
    "    - Sorting Lists in Python\n",
    "    - Reverse a list in python\n",
    "- Python List Functions and Methods"
   ]
  },
  {
   "cell_type": "markdown",
   "metadata": {},
   "source": [
    "### Creating a Lists in python"
   ]
  },
  {
   "cell_type": "markdown",
   "metadata": {},
   "source": [
    "A list can be created by putting the value inside the square bracket, and values are separated by commas.\n",
    "\n",
    "List_name = [value1, value2, …, value n]\n",
    "\n",
    "Unlike strings, lists can contain any sort of objects: numbers, strings, and even other lists. Python lists are:\n",
    "- Ordered collections of arbitrary objects\n",
    "- Accessed by offset\n",
    "- Arrays of object references\n",
    "- Of variable length, heterogeneous, and arbitrarily nestable\n",
    "- Of the category, mutable sequence\n",
    "- Data types in which elements are stored in the index basis with starting index as 0\n",
    "- Enclosed between square brackets ‘[]’\n",
    "\n",
    "Example:"
   ]
  },
  {
   "cell_type": "code",
   "execution_count": 2,
   "metadata": {},
   "outputs": [],
   "source": [
    "list1 = [1,2,3,4,5]\n",
    "list2 = [\"hello\", \"intellipaat\"]"
   ]
  },
  {
   "cell_type": "markdown",
   "metadata": {},
   "source": [
    "### Creating Multi-dimensional Lists in Python\n",
    "A list can hold other lists as well which can result in multi-dimensional lists. Next, we will see how to create multi-dimensional lists, one by one.\n",
    "#### One-dimensional Lists in Python:"
   ]
  },
  {
   "cell_type": "code",
   "execution_count": 3,
   "metadata": {},
   "outputs": [
    {
     "name": "stdout",
     "output_type": "stream",
     "text": [
      "[0, 0, 0]\n"
     ]
    }
   ],
   "source": [
    "init_list = [0]*3\n",
    "print(init_list)"
   ]
  },
  {
   "cell_type": "markdown",
   "metadata": {},
   "source": [
    "#### Two-dimensional Lists In Python:"
   ]
  },
  {
   "cell_type": "code",
   "execution_count": 4,
   "metadata": {},
   "outputs": [
    {
     "name": "stdout",
     "output_type": "stream",
     "text": [
      "[[0, 0, 0], [0, 0, 0], [0, 0, 0]]\n"
     ]
    }
   ],
   "source": [
    "two_dim_list = [ [0]*3 ] *3\n",
    "print(two_dim_list)"
   ]
  },
  {
   "cell_type": "markdown",
   "metadata": {},
   "source": [
    "#### Three-dimensional Lists in Python:"
   ]
  },
  {
   "cell_type": "code",
   "execution_count": 5,
   "metadata": {},
   "outputs": [
    {
     "name": "stdout",
     "output_type": "stream",
     "text": [
      "[[[0, 0, 0], [0, 0, 0], [0, 0, 0]], [[0, 0, 0], [0, 0, 0], [0, 0, 0]], [[0, 0, 0], [0, 0, 0], [0, 0, 0]]]\n"
     ]
    }
   ],
   "source": [
    "two_dim_list = [[ [0]*3 ] *3]*3\n",
    "print(two_dim_list)"
   ]
  },
  {
   "cell_type": "markdown",
   "metadata": {},
   "source": [
    "#### Python List Comprehension\n",
    "Python List comprehension helps in constructing lists in a completely natural and easy way."
   ]
  },
  {
   "cell_type": "code",
   "execution_count": 6,
   "metadata": {},
   "outputs": [
    {
     "name": "stdout",
     "output_type": "stream",
     "text": [
      "[0, 1, 2, 3, 4]\n"
     ]
    }
   ],
   "source": [
    "List = [1,2,3,4,5]\n",
    "List1 = [ i for i in range(5)]\n",
    "print(List1)"
   ]
  },
  {
   "cell_type": "markdown",
   "metadata": {},
   "source": [
    "#### Complicated Python List Comprehension Examples\n",
    "Example 1:"
   ]
  },
  {
   "cell_type": "code",
   "execution_count": 9,
   "metadata": {},
   "outputs": [
    {
     "name": "stdout",
     "output_type": "stream",
     "text": [
      "['ml', 'mi', 'md', 'ul', 'ui', 'ud', 'gl', 'gi', 'gd']\n"
     ]
    }
   ],
   "source": [
    "print ([a+b for a in 'mug' for b in 'lid'])"
   ]
  },
  {
   "cell_type": "markdown",
   "metadata": {},
   "source": [
    "Example 2:"
   ]
  },
  {
   "cell_type": "code",
   "execution_count": 11,
   "metadata": {},
   "outputs": [
    {
     "name": "stdout",
     "output_type": "stream",
     "text": [
      "['A', 'M', 'B', 'A']\n"
     ]
    }
   ],
   "source": [
    "list_fruit = [\"Apple\",\"Mango\",\"Banana\",\"Avocado\"]\n",
    "first_letters = [ fruits[0] for fruits in list_fruit ]\n",
    "print(first_letters)"
   ]
  },
  {
   "cell_type": "markdown",
   "metadata": {},
   "source": [
    "#### List Extension\n",
    "Python allows lists to resize in many ways. We can do that just by adding two or more of them.\n",
    "\n",
    "Example:"
   ]
  },
  {
   "cell_type": "code",
   "execution_count": 14,
   "metadata": {},
   "outputs": [
    {
     "name": "stdout",
     "output_type": "stream",
     "text": [
      "[[0, 0, 0], [0, 0, 0], [0, 0, 0]]\n",
      "[[0, 0, 1], [0, 0, 0], [0, 0, 0]]\n"
     ]
    }
   ],
   "source": [
    "two_dim = [[0]*3 for i in range(3)]\n",
    "print(two_dim)\n",
    "two_dim[0][2] = 1\n",
    "print(two_dim)"
   ]
  },
  {
   "cell_type": "markdown",
   "metadata": {},
   "source": [
    "- extend():\n",
    "\n",
    "Alternately, we can do extension by using the extend() method. See the following example:"
   ]
  },
  {
   "cell_type": "code",
   "execution_count": 16,
   "metadata": {},
   "outputs": [
    {
     "name": "stdout",
     "output_type": "stream",
     "text": [
      "['a', 'b', 'c', 'd']\n"
     ]
    }
   ],
   "source": [
    "L1 = ['a', 'b']\n",
    "L2 = ['c', 'd']\n",
    "L1.extend(L2)\n",
    "print(L1)"
   ]
  },
  {
   "cell_type": "markdown",
   "metadata": {},
   "source": [
    "- append(): \n",
    "\n",
    "Next, we can append a value to a list by calling the append() method. See the following example:"
   ]
  },
  {
   "cell_type": "code",
   "execution_count": 17,
   "metadata": {},
   "outputs": [
    {
     "name": "stdout",
     "output_type": "stream",
     "text": [
      "['a', 'b', ['c', 'd']]\n"
     ]
    }
   ],
   "source": [
    "L1 = ['a', 'b']\n",
    "L2 = ['c', 'd']\n",
    "L1.append(L2)\n",
    "print(L1)"
   ]
  },
  {
   "cell_type": "markdown",
   "metadata": {},
   "source": [
    "#### Accessing Lists in Python\n",
    "Much similar to strings, we can use the index number to access items in lists as shown below.\n",
    "\n",
    "Example:"
   ]
  },
  {
   "cell_type": "code",
   "execution_count": 18,
   "metadata": {},
   "outputs": [],
   "source": [
    "list1 = [1,2,3,4,5]"
   ]
  },
  {
   "cell_type": "markdown",
   "metadata": {},
   "source": [
    "#### Accessing a List Using Reverse Indexing\n",
    "To access a list in reverse order, we have to use indexing from −1, −2…. Here, −1 represents the last item in the list."
   ]
  },
  {
   "cell_type": "code",
   "execution_count": 19,
   "metadata": {},
   "outputs": [
    {
     "name": "stdout",
     "output_type": "stream",
     "text": [
      "5\n",
      "3\n"
     ]
    }
   ],
   "source": [
    "print(list1[-1])\n",
    "print(list1[-3])"
   ]
  },
  {
   "cell_type": "markdown",
   "metadata": {},
   "source": [
    "### Common List Operations in Python\n",
    "#### Slicing Python Lists\n",
    "Slicing operation is used to print a list up to a specific range. We can use slice operation by including the starting index and ending index of the range that we want to print separated by a colon as shown below:"
   ]
  },
  {
   "cell_type": "code",
   "execution_count": 20,
   "metadata": {},
   "outputs": [
    {
     "data": {
      "text/plain": [
       "[3, 4]"
      ]
     },
     "execution_count": 20,
     "metadata": {},
     "output_type": "execute_result"
    }
   ],
   "source": [
    "list1[2:4]"
   ]
  },
  {
   "cell_type": "code",
   "execution_count": 21,
   "metadata": {},
   "outputs": [
    {
     "data": {
      "text/plain": [
       "[3, 4]"
      ]
     },
     "execution_count": 21,
     "metadata": {},
     "output_type": "execute_result"
    }
   ],
   "source": [
    "list1[2:-1]"
   ]
  },
  {
   "cell_type": "code",
   "execution_count": 22,
   "metadata": {},
   "outputs": [
    {
     "data": {
      "text/plain": [
       "[1, 2]"
      ]
     },
     "execution_count": 22,
     "metadata": {},
     "output_type": "execute_result"
    }
   ],
   "source": [
    "list1[:2]"
   ]
  },
  {
   "cell_type": "markdown",
   "metadata": {},
   "source": [
    "#### Iterating through Python Lists\n",
    "Iterating is quite simple in lists. We can just use Python for loop to iterate, as shown below:"
   ]
  },
  {
   "cell_type": "code",
   "execution_count": 25,
   "metadata": {},
   "outputs": [
    {
     "name": "stdout",
     "output_type": "stream",
     "text": [
      "1\n",
      "2\n",
      "3\n",
      "4\n",
      "5\n"
     ]
    }
   ],
   "source": [
    "list1 = [1,2,3,4,5]\n",
    "for element in list1:\n",
    "    print(element)"
   ]
  },
  {
   "cell_type": "markdown",
   "metadata": {},
   "source": [
    "#### Update or Add Elements in a Python List\n",
    "We can update a particular item or multiple items of a list by using the slice operation, and then add an element using the append () method as shown below.\n",
    "\n",
    "Example:"
   ]
  },
  {
   "cell_type": "code",
   "execution_count": 27,
   "metadata": {},
   "outputs": [
    {
     "name": "stdout",
     "output_type": "stream",
     "text": [
      "[1, 2, 3, 4, 'number']\n",
      "[1, 2, 3, 4, 'Apple', 'Mango', 'Banana']\n",
      "[33, 1, 2, 3, 4, 'Apple', 'Mango', 'Banana']\n",
      "[33, 1, 2, 3, 4, 'Apple', 29, 'Mango', 'Banana']\n"
     ]
    }
   ],
   "source": [
    "list1[4] = 'number'\n",
    "print(list1)\n",
    "list1[4:7] = [\"Apple\",\"Mango\",\"Banana\"]\n",
    "print(list1)\n",
    "list1.insert(0,33)\n",
    "print(list1)\n",
    "list1.insert(6,29)\n",
    "print(list1)"
   ]
  },
  {
   "cell_type": "markdown",
   "metadata": {},
   "source": [
    "#### Remove elements from list in python\n",
    "There are three ways of removing elements from lists. We can either use the del keyword to remove a particular element or we can use the remove () method, and the last way is using the pop () method, as shown in the following code block:"
   ]
  },
  {
   "cell_type": "code",
   "execution_count": 30,
   "metadata": {},
   "outputs": [
    {
     "name": "stdout",
     "output_type": "stream",
     "text": [
      "[1, 2, 4, 5]\n"
     ]
    }
   ],
   "source": [
    "list1 = [1,2,3,4,5]\n",
    "del list1[2]\n",
    "print(list1)"
   ]
  },
  {
   "cell_type": "code",
   "execution_count": 31,
   "metadata": {},
   "outputs": [
    {
     "name": "stdout",
     "output_type": "stream",
     "text": [
      "[1, 2, 3, 5]\n"
     ]
    }
   ],
   "source": [
    "list2 = [1,2,3,4,5]\n",
    "list2.remove(4)\n",
    "print(list2)"
   ]
  },
  {
   "cell_type": "code",
   "execution_count": 32,
   "metadata": {
    "scrolled": true
   },
   "outputs": [
    {
     "name": "stdout",
     "output_type": "stream",
     "text": [
      "2\n",
      "[1, 3, 4, 5]\n"
     ]
    }
   ],
   "source": [
    "list3 = [1,2,3,4,5]\n",
    "print(list3.pop(1))\n",
    "print(list3)"
   ]
  },
  {
   "cell_type": "markdown",
   "metadata": {},
   "source": [
    "#### Remove duplicates from lists in python\n",
    "Here’s an example of list where some items are repeating. Let us see how we can remove duplicates from list in python."
   ]
  },
  {
   "cell_type": "code",
   "execution_count": null,
   "metadata": {},
   "outputs": [],
   "source": []
  }
 ],
 "metadata": {
  "kernelspec": {
   "display_name": "Python 3",
   "language": "python",
   "name": "python3"
  },
  "language_info": {
   "codemirror_mode": {
    "name": "ipython",
    "version": 3
   },
   "file_extension": ".py",
   "mimetype": "text/x-python",
   "name": "python",
   "nbconvert_exporter": "python",
   "pygments_lexer": "ipython3",
   "version": "3.7.3"
  }
 },
 "nbformat": 4,
 "nbformat_minor": 2
}
