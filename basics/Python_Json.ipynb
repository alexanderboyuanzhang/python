{
 "cells": [
  {
   "cell_type": "markdown",
   "metadata": {},
   "source": [
    "# Python Json\n",
    "References: https://intellipaat.com/tutorial/python-tutorial/python-json/"
   ]
  },
  {
   "cell_type": "markdown",
   "metadata": {},
   "source": [
    "#### convert JSON String to Python Object - json.loads()"
   ]
  },
  {
   "cell_type": "code",
   "execution_count": 2,
   "metadata": {},
   "outputs": [
    {
     "name": "stdout",
     "output_type": "stream",
     "text": [
      "{'course': 'python', 'topic': 'Python JSON'}\n",
      "<class 'str'>\n",
      "<class 'dict'>\n"
     ]
    }
   ],
   "source": [
    "import json\n",
    "\n",
    "intellipaat = '{\"course\":\"python\", \"topic\":\"Python JSON\"}'\n",
    "\n",
    "#parse a JSON string using json.loads()\n",
    "\n",
    "intellipaat_dict = json.loads(intellipaat)\n",
    "\n",
    "print(intellipaat_dict)\n",
    "\n",
    "print(type(intellipaat))\n",
    "\n",
    "print(type(intellipaat_dict))"
   ]
  },
  {
   "cell_type": "markdown",
   "metadata": {},
   "source": [
    "#### Converting from Python Dictionary to JSON - json.dumps()"
   ]
  },
  {
   "cell_type": "code",
   "execution_count": 3,
   "metadata": {},
   "outputs": [
    {
     "name": "stdout",
     "output_type": "stream",
     "text": [
      "\"{\\\"course\\\":\\\"python\\\", \\\"topic\\\":\\\"Python JSON\\\"}\"\n",
      "<class 'str'>\n",
      "<class 'str'>\n"
     ]
    }
   ],
   "source": [
    "import json\n",
    "\n",
    "intellipaat = '{\"course\":\"python\", \"topic\":\"Python JSON\"}'\n",
    "\n",
    "intellipaat_json = json.dumps(intellipaat)\n",
    "\n",
    "print(intellipaat_json)\n",
    "\n",
    "print(type(intellipaat))\n",
    "\n",
    "print(type(intellipaat_json))"
   ]
  },
  {
   "cell_type": "markdown",
   "metadata": {},
   "source": [
    "#### Formatting the Result of Json"
   ]
  },
  {
   "cell_type": "code",
   "execution_count": 8,
   "metadata": {},
   "outputs": [
    {
     "data": {
      "text/plain": [
       "'\"\\\\\"{\\\\\\\\\\\\\"course\\\\\\\\\\\\\":\\\\\\\\\\\\\"python\\\\\\\\\\\\\", \\\\\\\\\\\\\"topic\\\\\\\\\\\\\":\\\\\\\\\\\\\"Python JSON\\\\\\\\\\\\\"}\\\\\"\"'"
      ]
     },
     "execution_count": 8,
     "metadata": {},
     "output_type": "execute_result"
    }
   ],
   "source": [
    "json.dumps(intellipaat_json, indent=3)"
   ]
  },
  {
   "cell_type": "code",
   "execution_count": 9,
   "metadata": {},
   "outputs": [
    {
     "data": {
      "text/plain": [
       "'\"\\\\\"{\\\\\\\\\\\\\"course\\\\\\\\\\\\\":\\\\\\\\\\\\\"python\\\\\\\\\\\\\", \\\\\\\\\\\\\"topic\\\\\\\\\\\\\":\\\\\\\\\\\\\"Python JSON\\\\\\\\\\\\\"}\\\\\"\"'"
      ]
     },
     "execution_count": 9,
     "metadata": {},
     "output_type": "execute_result"
    }
   ],
   "source": [
    "json.dumps(intellipaat_json, indent=3, separators=(\".\",\"=\"))"
   ]
  },
  {
   "cell_type": "code",
   "execution_count": null,
   "metadata": {},
   "outputs": [],
   "source": []
  }
 ],
 "metadata": {
  "kernelspec": {
   "display_name": "Python 3",
   "language": "python",
   "name": "python3"
  },
  "language_info": {
   "codemirror_mode": {
    "name": "ipython",
    "version": 3
   },
   "file_extension": ".py",
   "mimetype": "text/x-python",
   "name": "python",
   "nbconvert_exporter": "python",
   "pygments_lexer": "ipython3",
   "version": "3.7.3"
  }
 },
 "nbformat": 4,
 "nbformat_minor": 2
}
