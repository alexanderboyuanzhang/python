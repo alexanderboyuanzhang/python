{
 "cells": [
  {
   "cell_type": "markdown",
   "metadata": {},
   "source": [
    "# Global & Static Variables\n",
    "### What Is a Variable in Python?\n",
    "A variable is a memory address that can change, and when the memory address cannot change then that variable is known as a constant. Variable is a name of the memory location where data is stored. Once a variable is stored, the space is allocated in memory. It defines a variable using a combination of numbers, letters, and the underscore character."
   ]
  },
  {
   "cell_type": "markdown",
   "metadata": {},
   "source": [
    "### Local Variables in Python"
   ]
  },
  {
   "cell_type": "markdown",
   "metadata": {},
   "source": [
    "A variable that is declared inside a python function or a module can only be used in that specific function or Python Module. This kind of variable is known as a local variable. Python interpreter will not recognize that variable outside that specific function or module and will throw an error if that variable is not declared outside of that function.\n",
    "Example:"
   ]
  },
  {
   "cell_type": "code",
   "execution_count": 8,
   "metadata": {},
   "outputs": [
    {
     "name": "stdout",
     "output_type": "stream",
     "text": [
      "100\n",
      "Intellipaat\n",
      "100\n"
     ]
    }
   ],
   "source": [
    "a=100\n",
    "print(a)\n",
    "def some_function():\n",
    "    a = 'Intellipaat'\n",
    "    print(a)\n",
    "some_function()\n",
    "print(a)"
   ]
  },
  {
   "cell_type": "markdown",
   "metadata": {},
   "source": [
    "Here, in this example, when the variable f is declared the second time inside the function named some_function, it becomes a local variable. Now, if we use that variable inside the function, there will be no issues as we can see that in the output of second print(f), it prints the value assigned to f in the function, that is, Intellipaat.\n",
    "\n",
    "Whereas, when we try to print the value of f outside the function, it prints the value assigned to it outside the function as we can see that in the output of the first and the third print(f), it prints 100."
   ]
  },
  {
   "cell_type": "markdown",
   "metadata": {},
   "source": [
    "### Global Variables In Python\n",
    "On the other hand, global variable in Python is a variable that can be used globally anywhere in the program. It can be used in any function or module, and even outside the functions, without having to re-declare it.\n",
    "\n",
    "Example:"
   ]
  },
  {
   "cell_type": "code",
   "execution_count": 11,
   "metadata": {},
   "outputs": [
    {
     "name": "stdout",
     "output_type": "stream",
     "text": [
      "100\n",
      "100\n",
      "Intellipaat\n"
     ]
    }
   ],
   "source": [
    "a = 100\n",
    "print (a)\n",
    "def some_function():\n",
    "    global a\n",
    "    print (a)\n",
    "    a = 'Intellipaat'\n",
    "some_function()\n",
    "print (a)"
   ]
  },
  {
   "cell_type": "code",
   "execution_count": null,
   "metadata": {},
   "outputs": [],
   "source": []
  }
 ],
 "metadata": {
  "kernelspec": {
   "display_name": "Python 3",
   "language": "python",
   "name": "python3"
  },
  "language_info": {
   "codemirror_mode": {
    "name": "ipython",
    "version": 3
   },
   "file_extension": ".py",
   "mimetype": "text/x-python",
   "name": "python",
   "nbconvert_exporter": "python",
   "pygments_lexer": "ipython3",
   "version": "3.7.3"
  }
 },
 "nbformat": 4,
 "nbformat_minor": 2
}
