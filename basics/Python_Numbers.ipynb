{
 "cells": [
  {
   "cell_type": "markdown",
   "metadata": {},
   "source": [
    "# Numbers in Python"
   ]
  },
  {
   "cell_type": "markdown",
   "metadata": {},
   "source": [
    "In Python, the number data type is used to store numeric values. Numbers in Python are an immutable data type. Being an immutable data type means that if we change the value of an already allocated number data type, then that would result in a newly allocated object. In this module, we will delve deeper into the number data type. Following is the list of the topics that will be covered in this module:\n",
    "- Categories of Number Data Type\n",
    "- Integers in Python\n",
    "- Long Integers in Python\n",
    "- Octal and Hexadecimal in Python\n",
    "- Floating-point in Python\n",
    "- Complex Numbers in Python\n",
    "- Python Number Type Conversion"
   ]
  },
  {
   "cell_type": "markdown",
   "metadata": {},
   "source": [
    "### Categories of Number Data Type"
   ]
  },
  {
   "cell_type": "markdown",
   "metadata": {},
   "source": [
    "The number data type is further categorized based on the type of numeric value that can be stored in it. If a variable in Python contains a numeric value, the data type of that variable will be under one of the categories of the number data type based on the type of value assigned to that variable.\n",
    "\n",
    "The number data type is divided into the following five data types:\n",
    "\n",
    "- Integer\n",
    "- Long Integer\n",
    "- Octal and Hexadecimal\n",
    "- Floating-point Numbers\n",
    "- Complex Numbers\n",
    "\n",
    "### Integers in Python\n",
    "Python integers are nothing but whole numbers, whose range dependents on the hardware on which Python is run. Integers can be of different types such as positive, negative, zero, and long.\n",
    "\n",
    "Example:"
   ]
  },
  {
   "cell_type": "code",
   "execution_count": 13,
   "metadata": {},
   "outputs": [],
   "source": [
    "I = 123 # Positive Integer\n",
    "J = -20 # Negative Integer\n",
    "K = 0   # Zero Integer"
   ]
  }
 ],
 "metadata": {
  "kernelspec": {
   "display_name": "Python 3",
   "language": "python",
   "name": "python3"
  },
  "language_info": {
   "codemirror_mode": {
    "name": "ipython",
    "version": 3
   },
   "file_extension": ".py",
   "mimetype": "text/x-python",
   "name": "python",
   "nbconvert_exporter": "python",
   "pygments_lexer": "ipython3",
   "version": "3.7.3"
  }
 },
 "nbformat": 4,
 "nbformat_minor": 2
}
