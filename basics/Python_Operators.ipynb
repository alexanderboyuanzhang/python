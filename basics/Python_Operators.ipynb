{
 "cells": [
  {
   "cell_type": "markdown",
   "metadata": {},
   "source": [
    "# Operators in Python\n",
    "\n",
    "### Arithmetic Operators in Python\n",
    "\n",
    "Reference: https://intellipaat.com/tutorial/python-tutorial/python-operators/\n",
    "\n",
    "|Arithmetic Operator|Operator Name|Description|Example|\n",
    "|---|---|---|---|\n",
    "|+\t|Addition\t|Performs addition\t|I=40, J=20 <br/> \\>>> I + J <br/> \\>>>60|\n",
    "|–\t|Subtraction|\tPerforms subtraction|I=40, J=20 <br/> \\>>>I – J <br/> \\>>>20|\n",
    "|*|\tMultiplication|\tPerforms multiplication| I=40, J=20 <br/> \\>>>I * J <br/>\\>>> 800|\n",
    "|/|\tDivision|\tPerforms division|\tI=30, J=20 <br/> \\>>>I /J <br/> \\>>> 2.5|\n",
    "|%|\tModulus|\tReturns the remainder after the division|\tI=40, J=20 <br/> \\>>>I /J <br/> \\>>> 0|\n",
    "|**|Exponent|\tPerforms exponential (power) calculation|\tI=4, J=20 <br/> \\>>>I /J <br/> \\>>> 204|\n",
    "|//|\tFloor Division|\tPerforms division, removes the decimal value, and returns the quotient value|I=30, J=20 <br/> \\>>>I//J <br/> \\>>> 1|"
   ]
  },
  {
   "cell_type": "code",
   "execution_count": null,
   "metadata": {},
   "outputs": [],
   "source": []
  }
 ],
 "metadata": {
  "kernelspec": {
   "display_name": "Python 3",
   "language": "python",
   "name": "python3"
  },
  "language_info": {
   "codemirror_mode": {
    "name": "ipython",
    "version": 3
   },
   "file_extension": ".py",
   "mimetype": "text/x-python",
   "name": "python",
   "nbconvert_exporter": "python",
   "pygments_lexer": "ipython3",
   "version": "3.7.3"
  }
 },
 "nbformat": 4,
 "nbformat_minor": 2
}
