{
 "cells": [
  {
   "cell_type": "markdown",
   "metadata": {},
   "source": [
    "# Python_Classes_and_Objects\n"
   ]
  },
  {
   "cell_type": "code",
   "execution_count": 2,
   "metadata": {},
   "outputs": [
    {
     "name": "stdout",
     "output_type": "stream",
     "text": [
      "Welcome to Intellipaat\n",
      "5\n"
     ]
    }
   ],
   "source": [
    "class IntellipaatClass:\n",
    "    a = 5\n",
    "    def function1(self):\n",
    "        print('Welcome to Intellipaat')\n",
    "        #accessing attributes using the class object of same name\n",
    "IntellipaatClass.function1(1)\n",
    "print(IntellipaatClass.a)"
   ]
  },
  {
   "cell_type": "code",
   "execution_count": 9,
   "metadata": {},
   "outputs": [
    {
     "name": "stdout",
     "output_type": "stream",
     "text": [
      "Welcome to Intellipaat\n"
     ]
    }
   ],
   "source": [
    "class IntellipaatClass:\n",
    "    a = 5\n",
    "    def function1(self):\n",
    "        print('Welcome to Intellipaat')#creating a new object named object1 using class object\n",
    "        \n",
    "object1 = IntellipaatClass()\n",
    "#accessing the attributes using new object\n",
    "object1.function1()"
   ]
  },
  {
   "cell_type": "markdown",
   "metadata": {},
   "source": [
    "#### The_init_() Function in Python\n",
    "The **__init__** function is a reserved function in classes in Python which is automatically called whenever a new object of the class is instantiated. As a regular function, the init function is also defined using the def keyword. As per the object-oriented programming paradigm, these types of functions are called constructors. We use constructors to initialize variables. We can pass any number of arguments while creating the class object as per the definition of the init function."
   ]
  },
  {
   "cell_type": "code",
   "execution_count": 11,
   "metadata": {},
   "outputs": [
    {
     "name": "stdout",
     "output_type": "stream",
     "text": [
      "Python\n"
     ]
    }
   ],
   "source": [
    "class IntellipaatClass:\n",
    "    def __init__(self, course):\n",
    "        self.course = course\n",
    "    def display(self):\n",
    "        print(self.course)\n",
    "object1 = IntellipaatClass(\"Python\")\n",
    "object1.display()"
   ]
  },
  {
   "cell_type": "code",
   "execution_count": 8,
   "metadata": {},
   "outputs": [
    {
     "name": "stdout",
     "output_type": "stream",
     "text": [
      "Welcome to intellipaat\n",
      "Python tutorial\n"
     ]
    }
   ],
   "source": [
    "class Intellipaat:\n",
    "    def course(self):\n",
    "        print(\"Python tutorial\")\n",
    "class hello:\n",
    "    def func(self):\n",
    "        print(\"Welcome to intellipaat\")\n",
    "ob1 = hello()\n",
    "ob1.func()\n",
    "ob1 = Intellipaat()\n",
    "ob1.course()"
   ]
  },
  {
   "cell_type": "code",
   "execution_count": 16,
   "metadata": {},
   "outputs": [
    {
     "name": "stdout",
     "output_type": "stream",
     "text": [
      "Blass class 1\n",
      "Base class 2\n",
      "derived class\n"
     ]
    }
   ],
   "source": [
    "class BaseClass1():\n",
    "    def __init__(self):\n",
    "        print(\"Blass class 1\")\n",
    "class BaseClass2():\n",
    "    def __init__(self):\n",
    "        print(\"Base class 2\")\n",
    "class derivedClass (BaseClass1, BaseClass2):\n",
    "    def __init__(self):\n",
    "        BaseClass1.__init__(self)\n",
    "        BaseClass2.__init__(self)\n",
    "        print(\"derived class\")\n",
    "def display_all(Self):\n",
    "    print(self.ob1, self.ob2)\n",
    "ob = derivedClass()"
   ]
  },
  {
   "cell_type": "code",
   "execution_count": 17,
   "metadata": {},
   "outputs": [
    {
     "name": "stdout",
     "output_type": "stream",
     "text": [
      "Base class\n",
      "Child class\n",
      "Grand child class\n"
     ]
    }
   ],
   "source": [
    "class BaseClass():\n",
    "    def __init__(self):\n",
    "        print(\"Base class\")\n",
    "class childClass(BaseClass):\n",
    "    def __init__(self):\n",
    "        print(\"Child class\")\n",
    "class grandchildClass(childClass):\n",
    "    def __init__(self):\n",
    "        BaseClass.__init__(self)\n",
    "        childClass.__init__(self)\n",
    "        print(\"Grand child class\")\n",
    "ob1 = grandchildClass()"
   ]
  },
  {
   "cell_type": "code",
   "execution_count": null,
   "metadata": {},
   "outputs": [],
   "source": [
    "class Base1(object):\n",
    "    def __init__(self):\n",
    "        self.x = 10\n",
    "# creating a private variable named y\n",
    "    def __init__(self):\n",
    "        self.__y = 5class Derived1(Base1):\n",
    "    def __init__(self):\n",
    "        self.z = 20\n",
    "Base1.__init__(self)\n",
    "ob1 = Derived1()\n",
    "print(ob1.y)"
   ]
  }
 ],
 "metadata": {
  "kernelspec": {
   "display_name": "Python 3",
   "language": "python",
   "name": "python3"
  },
  "language_info": {
   "codemirror_mode": {
    "name": "ipython",
    "version": 3
   },
   "file_extension": ".py",
   "mimetype": "text/x-python",
   "name": "python",
   "nbconvert_exporter": "python",
   "pygments_lexer": "ipython3",
   "version": "3.7.3"
  }
 },
 "nbformat": 4,
 "nbformat_minor": 2
}
