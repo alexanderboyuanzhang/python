{
 "cells": [
  {
   "cell_type": "markdown",
   "metadata": {},
   "source": [
    "# Standard Data Types in Python\n",
    "As the name suggests, a data type is the classification of the type of values that can be assigned to variables. We have already seen that, here in Python, we don’t need to declare a variable with explicitly mentioning the data type, but it’s still important to understand the different types of values that can be assigned to variables in Python. After all the data type of a variable is decided based on the value assigned.\n",
    "\n",
    "Python data types are categorized into two as follows:\n",
    "\n",
    "- Mutable Data Types: Data types in python where the value assigned to a variable can be changed\n",
    "- Immutable Data Types: Data types in python where the value assigned to a variable cannot be changed\n",
    "\n",
    "Let’s discuss on the above-mentioned standard data types in Python.\n",
    "\n",
    "- **Numbers**: The number data type in Python is used to store numerical values. It is used to carry out the normal mathematical operations.\n",
    "- **Strings**: Strings in Python are used to store textual information. They are used to carry out operations that perform positional ordering among items.\n",
    "- **Lists**: The list data type is the most generic Python data type. Lists can consist of a collection of mixed data types, stored by relative positions.\n",
    "- **Tuples**: Tuples are one among the immutable Python data types that can store values of mixed data types. They are basically a list that cannot be changed.\n",
    "- **Sets**: Sets in Python are a data type that can be considered as an unordered collection of data without any duplicate items.\n",
    "- **Dictionaries**: Dictionaries in Python can store multiple objects, but unlike lists, in dictionaries, the objects are stored by keys and not by positions.\n"
   ]
  }
 ],
 "metadata": {
  "kernelspec": {
   "display_name": "Python 3",
   "language": "python",
   "name": "python3"
  },
  "language_info": {
   "codemirror_mode": {
    "name": "ipython",
    "version": 3
   },
   "file_extension": ".py",
   "mimetype": "text/x-python",
   "name": "python",
   "nbconvert_exporter": "python",
   "pygments_lexer": "ipython3",
   "version": "3.7.3"
  }
 },
 "nbformat": 4,
 "nbformat_minor": 2
}
