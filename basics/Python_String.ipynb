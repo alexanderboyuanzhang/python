{
 "cells": [
  {
   "cell_type": "markdown",
   "metadata": {},
   "source": [
    "# String in Python\n",
    "### What is a Python String and String Function in Python?\n",
    "Python string is an ordered collection of characters which is used to represent and store the text-based information. Strings are stored as individual characters in a contiguous memory location. It can be accessed from both directions: forward and backward. Characters are nothing but symbols. Strings are immutable Data Types in Python, which means that once a string is created, they cannot be changed. In this module, we will learn all about strings in Python so as to get started with strings.\n",
    "\n",
    "Following is the list of all topics that are covered in this module.\n",
    "\n",
    "- Creating a String in python\n",
    "- Accessing Python String Characters\n",
    "- Updating or Deleting a String in Python\n",
    "- Python String Operators\n",
    "- Built-in Python String Methods and Python String Functions"
   ]
  },
  {
   "cell_type": "markdown",
   "metadata": {},
   "source": [
    "### Creating a String in Python\n",
    "In Python, strings are created using either single quotes or double quotes. We can also use triple quotes, but usually triple quotes are used to create docstrings or multi-line strings."
   ]
  },
  {
   "cell_type": "code",
   "execution_count": 3,
   "metadata": {},
   "outputs": [
    {
     "name": "stdout",
     "output_type": "stream",
     "text": [
      "Intellipaat\n",
      "Python tutorial\n"
     ]
    }
   ],
   "source": [
    "#creating a string with single quotes\n",
    "String1 = 'Intellipaat'\n",
    "print (String1)#creating a string with double quotes\n",
    "String2 = \"Python tutorial\"\n",
    "print (String2)"
   ]
  },
  {
   "cell_type": "markdown",
   "metadata": {},
   "source": [
    "# Accessing Python String Characters\n",
    "In Python, the characters of string can be individually accessed using a method called indexing. Characters can be accessed from both directions: forward and backward. Forward indexing starts from 0, 1, 2…. Whereas, backward indexing starts form −1, −2, −3…, where −1 is the last element in a string, −2 is the second last, and so on. We can only use the integer number type for indexing; otherwise, the TypeError will be raised.\n",
    "\n",
    "Example:"
   ]
  },
  {
   "cell_type": "code",
   "execution_count": 5,
   "metadata": {},
   "outputs": [
    {
     "name": "stdout",
     "output_type": "stream",
     "text": [
      "intellipaat\n",
      "i\n",
      "n\n",
      "t\n"
     ]
    }
   ],
   "source": [
    "String1 = 'intellipaat'\n",
    "print (String1)\n",
    "print (String1[0])\n",
    "print (String1[1])\n",
    "print (String1[-1])"
   ]
  },
  {
   "cell_type": "markdown",
   "metadata": {},
   "source": [
    "### Updating or Deleting a String in Python\n",
    "As discussed above, strings in Python are immutable and thus updating or deleting an individual character in a string is not allowed, which means that changing a particular character in a string is not supported in Python. Although, the whole string can be updated and deleted. The whole string is deleted using a built-in ‘del’ keyword.\n",
    "\n",
    "Example:"
   ]
  },
  {
   "cell_type": "code",
   "execution_count": 7,
   "metadata": {},
   "outputs": [
    {
     "name": "stdout",
     "output_type": "stream",
     "text": [
      "original string: \n",
      "Intellipaat Python Tutorial\n",
      "Updated String: \n",
      "Welcome to Intellipaat\n"
     ]
    }
   ],
   "source": [
    "#Python code to update an entire string\n",
    "String1 = 'Intellipaat Python Tutorial'\n",
    "print (\"original string: \")\n",
    "print (String1)\n",
    "String1 = 'Welcome to Intellipaat'\n",
    "print (\"Updated String: \")\n",
    "print (String1)"
   ]
  },
  {
   "cell_type": "markdown",
   "metadata": {},
   "source": [
    "Example:"
   ]
  },
  {
   "cell_type": "code",
   "execution_count": 9,
   "metadata": {},
   "outputs": [
    {
     "name": "stdout",
     "output_type": "stream",
     "text": [
      "Intellipaat Python tutorial\n"
     ]
    }
   ],
   "source": [
    "#Python code to delete an entire string\n",
    "String1 = 'Intellipaat Python tutorial'\n",
    "print (String1)"
   ]
  },
  {
   "cell_type": "code",
   "execution_count": 10,
   "metadata": {},
   "outputs": [
    {
     "ename": "NameError",
     "evalue": "name 'String1' is not defined",
     "output_type": "error",
     "traceback": [
      "\u001b[0;31m---------------------------------------------------------------------------\u001b[0m",
      "\u001b[0;31mNameError\u001b[0m                                 Traceback (most recent call last)",
      "\u001b[0;32m<ipython-input-10-42080e05d70a>\u001b[0m in \u001b[0;36m<module>\u001b[0;34m\u001b[0m\n\u001b[1;32m      1\u001b[0m \u001b[0;32mdel\u001b[0m \u001b[0mString1\u001b[0m\u001b[0;34m\u001b[0m\u001b[0;34m\u001b[0m\u001b[0m\n\u001b[0;32m----> 2\u001b[0;31m \u001b[0mprint\u001b[0m \u001b[0;34m(\u001b[0m\u001b[0mString1\u001b[0m\u001b[0;34m)\u001b[0m\u001b[0;34m\u001b[0m\u001b[0;34m\u001b[0m\u001b[0m\n\u001b[0m",
      "\u001b[0;31mNameError\u001b[0m: name 'String1' is not defined"
     ]
    }
   ],
   "source": [
    "del String1\n",
    "print (String1)"
   ]
  },
  {
   "cell_type": "markdown",
   "metadata": {},
   "source": [
    "### Python Operators for  Strings\n",
    "\n",
    "There are three types of operators supported by a string, which are:\n",
    "\n",
    "- Basic Operators (+, *)\n",
    "- Relational Operators (<, ><=, >=, ==, !=)\n",
    "- Membership Operators (in, not in)\n",
    "\n",
    "Table: Common String Constants and Operations\n",
    "\n",
    "|Operators|Description|\n",
    "|---|---|\n",
    "|s1 = '  '|\tEmpty string|\n",
    "|s2 = “a string”|\tDouble quotes|\n",
    "|block = '''...'''|\tTriple-quoted blocks|\n",
    "|s1 + s2|\tConcatenate|\n",
    "|s2 * 3|\tRepeat|\n",
    "|s2[i]|\ti=Index|\n",
    "|s2[i:j]|\tSlice|\n",
    "|len(s2)|\tLength|\n",
    "|“a %s parrot” % 'dead'|\tString formatting in Python|\n",
    "|for x in s2|\tIteration|\n",
    "|'m' in s2\t|Membership|"
   ]
  },
  {
   "cell_type": "markdown",
   "metadata": {},
   "source": [
    "Table: String Backslash Characters\n",
    "\n",
    "|Operators|Description|\n",
    "|---|---|\n",
    "|\\newline|\tIgnored (a continuation)|\n",
    "|\\n|\tNewline (ASCII line feed)|\n",
    "|\\\\\\\\ |\tBackslash(keeps one \\\\)|\n",
    "|\\v|\tVertical tab|\n",
    "|\\'|\tSingle quote (keeps ')|\n",
    "|\\t|\tHorizontal tab|\n",
    "|\\\"|\tDouble quote (keeps \")|\n",
    "|\\r|\tCarriage return|\n",
    "|\\a|\tASCII bell|\n",
    "|\\f|\tForm feed|\n",
    "|\\b|\tBackspace|\n",
    "|\\0XX|\tOctal value XX|\n",
    "|\\e|\tEscape (usually)|\n",
    "|\\xXX|\tHex value XX|\n",
    "|\\000|\tNull (doesn't end string)|"
   ]
  },
  {
   "cell_type": "markdown",
   "metadata": {},
   "source": [
    "# Built-in Python String Methods and Python String Functions\n",
    "\n",
    "|String Method/String Function in Python|Description of String Method/String Function in Python|\n",
    "|:---|:---|\n",
    "|capitalize()|\tIt capitalizes the first letter of a string.|\n",
    "|center(width, fillchar)|\tIt returns a space-padded string with the original string centered to.|\n",
    "|count(str, beg= 0,end=len(string))|\tIt counts how many times ‘str’ occurs in a string or in the substring of a string if the starting index ‘beg’ and the ending index ‘end’ are given.|\n",
    "|encode(encoding=’UTF-8′,errors=’strict’)|\tIt returns an encoded string version of a string; on error, the default is to raise a ValueError unless errors are given with ‘ignore’ or ‘replace’.|\n",
    "|endswith(suffix, beg=0, end=len(string))|\tIt determines if a string or the substring of a string (if the starting index ‘beg’ and the ending index ‘end’ are given) ends with a suffix; it returns true if so, and false otherwise.|\n",
    "|expandtabs(tabsize=8)|\tIt expands tabs in a string to multiple spaces; defaults to 8 spaces per tab if the tab size is not provided.|\n",
    "|find(str, beg=0 end=len(string))|\tIt determines if ‘str’ occurs in a string or in the substring of a string if starting index ‘beg’ and ending index ‘end’ are given and returns the index if found, and −1 otherwise.|\n",
    "|index(str, beg=0, end=len(string))|\tIt works just like find() but raises an exception if ‘str’ not found.|\n",
    "|isalnum()|\tIt returns true if a string has at least one character and all characters are alphanumeric, and false otherwise.|\n",
    "|isalpha()|\tIt returns true if a string has at least one character and all characters are alphabetic, and false otherwise.|\n",
    "|isdigit()|\tIt returns true if a string contains only digits, and false otherwise.|\n",
    "|islower()|\tIt returns true if a string has at least one cased character and all other characters are in lowercase, and false otherwise.|\n",
    "|isupper()|\tIt returns true if a string has at least one cased character, and all other characters are in uppercase, and false otherwise.|\n",
    "|len(string)|\tIt returns the length of a string.|\n",
    "|max(str)|\tIt returns the max alphabetical character from the string str.|\n",
    "|min(str)|\tIt returns the min alphabetical character from the string str.|\n",
    "|upper()|\tIt converts lowercase letters in a string to uppercase.|\n",
    "|rstrip()|\tIt removes all trailing whitespace of a string.|\n",
    "|split(str=””, num=string.count(str))|\tIt is used to split strings in Python according to the delimiter str (space if not provided any) and returns the list of substrings in Python|\n",
    "|splitlines( num=string.count(‘\\n’))|\tIt splits a string at the newlines and returns a list of each line with newlines removed.|"
   ]
  },
  {
   "cell_type": "code",
   "execution_count": null,
   "metadata": {},
   "outputs": [],
   "source": []
  }
 ],
 "metadata": {
  "kernelspec": {
   "display_name": "Python 3",
   "language": "python",
   "name": "python3"
  },
  "language_info": {
   "codemirror_mode": {
    "name": "ipython",
    "version": 3
   },
   "file_extension": ".py",
   "mimetype": "text/x-python",
   "name": "python",
   "nbconvert_exporter": "python",
   "pygments_lexer": "ipython3",
   "version": "3.7.3"
  }
 },
 "nbformat": 4,
 "nbformat_minor": 2
}
