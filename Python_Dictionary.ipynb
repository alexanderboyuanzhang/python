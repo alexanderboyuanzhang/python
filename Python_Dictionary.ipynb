{
 "cells": [
  {
   "cell_type": "markdown",
   "metadata": {},
   "source": [
    "# Python Dictionary"
   ]
  },
  {
   "cell_type": "code",
   "execution_count": 4,
   "metadata": {},
   "outputs": [
    {
     "name": "stdout",
     "output_type": "stream",
     "text": [
      "{'Brandf': 'gucci', 'Industry': 'fashion', 'year': 1921}\n"
     ]
    }
   ],
   "source": [
    "dict1 ={\"Brandf\":\"gucci\",\"Industry\":\"fashion\",\"year\":1921}\n",
    "print(dict1)"
   ]
  },
  {
   "cell_type": "code",
   "execution_count": 6,
   "metadata": {},
   "outputs": [
    {
     "name": "stdout",
     "output_type": "stream",
     "text": [
      "{}\n"
     ]
    }
   ],
   "source": [
    "dict2 ={}\n",
    "print(dict2)"
   ]
  },
  {
   "cell_type": "code",
   "execution_count": 8,
   "metadata": {},
   "outputs": [
    {
     "name": "stdout",
     "output_type": "stream",
     "text": [
      "{1: 'Intellipaat', 2: 'Python'}\n"
     ]
    }
   ],
   "source": [
    "dict3 = dict([(1, 'Intellipaat'), (2,'Python')])\n",
    "print(dict3)"
   ]
  },
  {
   "cell_type": "code",
   "execution_count": 10,
   "metadata": {},
   "outputs": [
    {
     "name": "stdout",
     "output_type": "stream",
     "text": [
      "1921\n"
     ]
    }
   ],
   "source": [
    "dict1 = {\"Brand\":\"gucci\",\"Industry\":\"fashion\",\"year\":1921}\n",
    "print(dict1['year'])"
   ]
  },
  {
   "cell_type": "code",
   "execution_count": 12,
   "metadata": {},
   "outputs": [
    {
     "name": "stdout",
     "output_type": "stream",
     "text": [
      "1921\n"
     ]
    }
   ],
   "source": [
    "dict1 = {\"Brand\":\"gucci\",\"Industry\":\"fashion\",\"year\":1921}\n",
    "print (dict1.get('year'))"
   ]
  },
  {
   "cell_type": "code",
   "execution_count": 14,
   "metadata": {},
   "outputs": [
    {
     "name": "stdout",
     "output_type": "stream",
     "text": [
      "1\n",
      "8\n",
      "21\n",
      "64\n",
      "125\n"
     ]
    }
   ],
   "source": [
    "cubes = {1:1, 2:8, 3:21, 4:64, 5:125}\n",
    "for i in cubes:\n",
    "    print(cubes[i])"
   ]
  },
  {
   "cell_type": "code",
   "execution_count": 18,
   "metadata": {},
   "outputs": [
    {
     "name": "stdout",
     "output_type": "stream",
     "text": [
      "{'Brand': 'gucci', 'Industry': 'fashion', 'year': 1921}\n"
     ]
    }
   ],
   "source": [
    "dict1 = {\"Brand\":\"gucci\",\"Industry\":\"fashion\",\"year\":1921}\n",
    "print(dict1)"
   ]
  },
  {
   "cell_type": "code",
   "execution_count": 19,
   "metadata": {},
   "outputs": [
    {
     "name": "stdout",
     "output_type": "stream",
     "text": [
      "{'Brand': 'gucci', 'Industry': 'fashion', 'year': 1921, 'product': 'Tote Handbag'}\n"
     ]
    }
   ],
   "source": [
    "#creating new key-value pair\n",
    "dict1['product'] = \"Tote Handbag\"\n",
    "print(dict1)"
   ]
  },
  {
   "cell_type": "code",
   "execution_count": 20,
   "metadata": {},
   "outputs": [
    {
     "name": "stdout",
     "output_type": "stream",
     "text": [
      "{}\n"
     ]
    }
   ],
   "source": [
    "#updating existing value\n",
    "dict1['Industry'] = \"Fashion and Luxury\"\n",
    "print(dict2)"
   ]
  },
  {
   "cell_type": "code",
   "execution_count": 21,
   "metadata": {},
   "outputs": [
    {
     "name": "stdout",
     "output_type": "stream",
     "text": [
      "64\n",
      "{1: 1, 2: 8, 3: 21, 5: 125}\n"
     ]
    }
   ],
   "source": [
    "cubes = {1:1, 2:8, 3:21, 4:64, 5:125}\n",
    "print(cubes.pop(4))\n",
    "print(cubes)"
   ]
  },
  {
   "cell_type": "code",
   "execution_count": 22,
   "metadata": {},
   "outputs": [
    {
     "name": "stdout",
     "output_type": "stream",
     "text": [
      "(5, 125)\n",
      "{1: 1, 2: 8, 3: 21, 4: 64}\n"
     ]
    }
   ],
   "source": [
    "cubes = {1:1, 2:8, 3:21, 4:64, 5:125}\n",
    "print(cubes.popitem())\n",
    "print(cubes)"
   ]
  },
  {
   "cell_type": "code",
   "execution_count": 23,
   "metadata": {},
   "outputs": [
    {
     "name": "stdout",
     "output_type": "stream",
     "text": [
      "{1: 1, 2: 8, 3: 21, 4: 64}\n"
     ]
    }
   ],
   "source": [
    "cubes = {1:1, 2:8, 3:21, 4:64, 5:125}\n",
    "del cubes[5]\n",
    "print (cubes)"
   ]
  },
  {
   "cell_type": "code",
   "execution_count": 24,
   "metadata": {},
   "outputs": [
    {
     "name": "stdout",
     "output_type": "stream",
     "text": [
      "{}\n"
     ]
    }
   ],
   "source": [
    "cubes = {1:1, 2:8, 3:21, 4:64, 5:125}\n",
    "cubes.clear()\n",
    "print(cubes)"
   ]
  },
  {
   "cell_type": "code",
   "execution_count": 25,
   "metadata": {},
   "outputs": [
    {
     "ename": "SyntaxError",
     "evalue": "invalid syntax (<ipython-input-25-c4ab663145ec>, line 2)",
     "output_type": "error",
     "traceback": [
      "\u001b[0;36m  File \u001b[0;32m\"<ipython-input-25-c4ab663145ec>\"\u001b[0;36m, line \u001b[0;32m2\u001b[0m\n\u001b[0;31m    cubes.del()\u001b[0m\n\u001b[0m            ^\u001b[0m\n\u001b[0;31mSyntaxError\u001b[0m\u001b[0;31m:\u001b[0m invalid syntax\n"
     ]
    }
   ],
   "source": [
    "cubes = {1:1, 2:8, 3:21, 4:64, 5:125}\n",
    "cubes.del()\n",
    "print(cubes)"
   ]
  },
  {
   "cell_type": "code",
   "execution_count": 26,
   "metadata": {},
   "outputs": [
    {
     "name": "stdout",
     "output_type": "stream",
     "text": [
      "3\n"
     ]
    }
   ],
   "source": [
    "dict1 = {\"Brand\":\"gucci\",\"Industry\":\"fashion\",\"year\":1921}\n",
    "print(len(dict1))"
   ]
  },
  {
   "cell_type": "code",
   "execution_count": 29,
   "metadata": {},
   "outputs": [
    {
     "name": "stdout",
     "output_type": "stream",
     "text": [
      "Yes, 'Industry' is one of the Keyword in dictionary named dict1\n"
     ]
    }
   ],
   "source": [
    "dict1 = {\"Brand\":\"gucci\",\"Industry\":\"fashion\",\"year\":1921}\n",
    "if \"Industry\" in dict1:\n",
    "    print (\"Yes, 'Industry' is one of the Keyword in dictionary named dict1\")"
   ]
  },
  {
   "cell_type": "markdown",
   "metadata": {},
   "source": [
    "### Common Python Dictionary Methods\n",
    "\n",
    "|Method|Description|\n",
    "|---|---|\n",
    "|clear()|It removes all elements from a dictionary.|\n",
    "|copy()|It returns a copy of a dictionary.|\n",
    "|fromkeys()|It returns a dictionary with the specified keys and values.|\n",
    "|get()|It returns the value of a specified key.|\n",
    "|items()|It returns a list containing a tuple for each key–value pair.|\n",
    "|keys()|It returns a list containing the dictionary’s keys.|\n",
    "|pop()|It removes an element with a specified key.|\n",
    "|popitem()|It removes the last inserted (key, value) pair.|\n",
    "|setdefault()|It returns the value of a specified key.|\n",
    "|update()|It updates a dictionary with the specified key–value pairs.|\n",
    "|values()|\"It returns a list of all values in a dictionary.|"
   ]
  },
  {
   "cell_type": "code",
   "execution_count": null,
   "metadata": {},
   "outputs": [],
   "source": []
  }
 ],
 "metadata": {
  "kernelspec": {
   "display_name": "Python 3",
   "language": "python",
   "name": "python3"
  },
  "language_info": {
   "codemirror_mode": {
    "name": "ipython",
    "version": 3
   },
   "file_extension": ".py",
   "mimetype": "text/x-python",
   "name": "python",
   "nbconvert_exporter": "python",
   "pygments_lexer": "ipython3",
   "version": "3.7.3"
  }
 },
 "nbformat": 4,
 "nbformat_minor": 2
}
