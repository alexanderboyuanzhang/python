{
 "cells": [
  {
   "cell_type": "markdown",
   "metadata": {},
   "source": [
    "# Python if else Statement"
   ]
  },
  {
   "cell_type": "code",
   "execution_count": 2,
   "metadata": {},
   "outputs": [
    {
     "name": "stdout",
     "output_type": "stream",
     "text": [
      "5 is less than 10\n",
      "Statement after if statement\n"
     ]
    }
   ],
   "source": [
    "a = 5\n",
    "if (a <10):\n",
    "    print (\"5 is less than 10\")\n",
    "    print (\"Statement after if statement\")"
   ]
  },
  {
   "cell_type": "code",
   "execution_count": 3,
   "metadata": {},
   "outputs": [
    {
     "name": "stdout",
     "output_type": "stream",
     "text": [
      "i is greater than 15\n",
      "statement after if statement\n"
     ]
    }
   ],
   "source": [
    "i = 20;\n",
    "if (i < 15):\n",
    "    print (\"i is smaller than 15\")\n",
    "else:\n",
    "    print (\"i is greater than 15\")\n",
    "    print (\"statement after if statement\")"
   ]
  },
  {
   "cell_type": "code",
   "execution_count": 5,
   "metadata": {},
   "outputs": [
    {
     "name": "stdout",
     "output_type": "stream",
     "text": [
      "value of variable a is greater than 40\n"
     ]
    }
   ],
   "source": [
    "a = 50\n",
    "if (a == 20):\n",
    "    print (\"value of variable a is 20\")\n",
    "elif (a == 30):\n",
    "    print (\"value of variable a is 30\")\n",
    "elif (a == 40):\n",
    "    print (\"value of variable a is 40\")\n",
    "else:\n",
    "    print (\"value of variable a is greater than 40\")"
   ]
  },
  {
   "cell_type": "code",
   "execution_count": 8,
   "metadata": {},
   "outputs": [
    {
     "name": "stdout",
     "output_type": "stream",
     "text": [
      "a is smaller than 25\n"
     ]
    }
   ],
   "source": [
    "a = 20\n",
    "if (a == 20):\n",
    "# First if statement    \n",
    "    if (a < 25):\n",
    "        print (\"a is smaller than 25\")\n",
    "    else:\n",
    "        print (\"a is greater than 25\")\n",
    "else:\n",
    "    print (\"a is not equal to 20\")"
   ]
  },
  {
   "cell_type": "code",
   "execution_count": 10,
   "metadata": {},
   "outputs": [
    {
     "name": "stdout",
     "output_type": "stream",
     "text": [
      " a is greater than b\n"
     ]
    }
   ],
   "source": [
    "a = 4\n",
    "b = 2\n",
    "if a>b:\n",
    "    print(\" a is greater than b\")"
   ]
  },
  {
   "cell_type": "code",
   "execution_count": null,
   "metadata": {},
   "outputs": [],
   "source": []
  }
 ],
 "metadata": {
  "kernelspec": {
   "display_name": "Python 3",
   "language": "python",
   "name": "python3"
  },
  "language_info": {
   "codemirror_mode": {
    "name": "ipython",
    "version": 3
   },
   "file_extension": ".py",
   "mimetype": "text/x-python",
   "name": "python",
   "nbconvert_exporter": "python",
   "pygments_lexer": "ipython3",
   "version": "3.7.3"
  }
 },
 "nbformat": 4,
 "nbformat_minor": 2
}
