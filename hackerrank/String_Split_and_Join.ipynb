{
 "cells": [
  {
   "cell_type": "markdown",
   "metadata": {},
   "source": [
    "# String split and Join\n",
    "\n",
    "In Python, a string can be split on a delimiter.\n",
    "\n",
    "#### Example:\n",
    "\\>>> a = \"this is a string\" <br/>\n",
    "\\>>> a = a.split(\" \") # a is converted to a list of strings.<br/> \n",
    "\\>>> print a <br/>\n",
    "['this', 'is', 'a', 'string'] \n",
    "\n",
    "Joining a string is simple: <br/>\n",
    "\\>>> a = \"-\".join(a)<br/>\n",
    "\\>>> print a<br/>\n",
    "this-is-a-string <br/>\n",
    "#### Task \n",
    "You are given a string. Split the string on a \" \" (space) delimiter and join using a - hyphen.\n",
    "#### Input Format \n",
    "The first line contains a string consisting of space separated words.\n",
    "#### Output Format \n",
    "Print the formatted string as explained above.\n",
    "#### Sample Input\n",
    "this is a string   \n",
    "#### Sample Output\n",
    "this-is-a-string"
   ]
  },
  {
   "cell_type": "code",
   "execution_count": 3,
   "metadata": {},
   "outputs": [],
   "source": [
    "def split_and_join(line):\n",
    "    line_list = line.split()\n",
    "    return '-'.join(line_list)"
   ]
  },
  {
   "cell_type": "code",
   "execution_count": 5,
   "metadata": {},
   "outputs": [
    {
     "name": "stdout",
     "output_type": "stream",
     "text": [
      "ddf  jfj  fjfjf \n",
      "ddf-jfj-fjfjf\n"
     ]
    }
   ],
   "source": [
    "if __name__ == '__main__':\n",
    "    line = input()\n",
    "    result = split_and_join(line)\n",
    "    print(result)"
   ]
  },
  {
   "cell_type": "code",
   "execution_count": null,
   "metadata": {},
   "outputs": [],
   "source": []
  }
 ],
 "metadata": {
  "kernelspec": {
   "display_name": "Python 3",
   "language": "python",
   "name": "python3"
  },
  "language_info": {
   "codemirror_mode": {
    "name": "ipython",
    "version": 3
   },
   "file_extension": ".py",
   "mimetype": "text/x-python",
   "name": "python",
   "nbconvert_exporter": "python",
   "pygments_lexer": "ipython3",
   "version": "3.7.3"
  }
 },
 "nbformat": 4,
 "nbformat_minor": 2
}
