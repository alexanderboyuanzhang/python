{
 "cells": [
  {
   "cell_type": "markdown",
   "metadata": {},
   "source": [
    "# The Minion Game"
   ]
  },
  {
   "cell_type": "markdown",
   "metadata": {},
   "source": [
    "Kevin and Stuart want to play the '**The Minion Game**'.\n",
    "\n",
    "**Game Rules**\n",
    "\n",
    "Both players are given the same string, **S**. <br/>\n",
    "Both players have to make substrings using the letters of the string **S**. <br/>\n",
    "Stuart has to make words starting with consonants. <br/>\n",
    "Kevin has to make words starting with vowels. <br/>\n",
    "The game ends when both players have made all possible substrings. <br/>\n",
    "\n",
    "**scoring**\n",
    "\n",
    "A player gets +1 point for each occurrence of the substring in the string **S**.\n",
    "\n",
    "**For Example**:\n",
    "\n",
    "String **S** = BANANA <br/>\n",
    "Kevin's vowel beginning word = ANA <br/>\n",
    "Here, ANA occurs twice in BANANA. Hence, Kevin will get 2 Points.\n",
    "\n",
    "Your task is to determine the winner of the game and their score.\n",
    "\n",
    "**Input Format**\n",
    "\n",
    "A single line of input containing the string . \n",
    "Note: The string  will contain only uppercase letters: .\n",
    "\n",
    "**Output Format**\n",
    "\n",
    "Print one line: the name of the winner and their score separated by a space.\n",
    "\n",
    "If the game is a draw, print Draw.\n",
    "\n",
    "**Sample Input**\n",
    "\n",
    "BANANA\n",
    "\n",
    "**Sample Output**\n",
    "\n",
    "Stuart 12\n",
    "Note : \n",
    "Vowels are only defined as *AEIOU* . In this problem,  is not considered a vowel."
   ]
  },
  {
   "cell_type": "code",
   "execution_count": 77,
   "metadata": {},
   "outputs": [
    {
     "name": "stdout",
     "output_type": "stream",
     "text": [
      "Stuart\n"
     ]
    }
   ],
   "source": [
    "def is_vowel(ch):\n",
    "    if(ch=='A' or ch=='a' or ch=='E' or ch =='e' or ch=='I' or ch=='i' or ch=='O' or ch=='o' or ch=='U' or ch=='u'):\n",
    "        return True\n",
    "    else:\n",
    "        return False\n",
    "\n",
    "def starts_with_vowel(string):\n",
    "    if(is_vowel(string)):\n",
    "        return True\n",
    "    else:\n",
    "        return False\n",
    "\n",
    "def get_cons(str_list):\n",
    "    cons_set = set()\n",
    "    for elem in str_list:\n",
    "        if(not is_vowel(elem)):\n",
    "            cons_set.update(elem)\n",
    "    return list(cons_set)\n",
    "\n",
    "def get_vowels(str_list):\n",
    "    vowel_set = set()\n",
    "    for elem in str_list:\n",
    "        if(is_vowel(elem)):\n",
    "            vowel_set.update(elem)\n",
    "    return list(vowel_set)\n",
    "\n",
    "def get_single_vowel_scores(str_list,string):\n",
    "    # vowel\n",
    "    vowel_list = get_vowels(str_list)\n",
    "    score = 0\n",
    "    for elem in vowel_list:\n",
    "        score += ch_counter(elem, string)\n",
    "    return score\n",
    "\n",
    "def get_single_cons_scores(str_list,string):\n",
    "    # cons\n",
    "    cons_list = get_cons(str_list)\n",
    "    score = 0\n",
    "    for elem in cons_list:\n",
    "        score += ch_counter(elem, string)\n",
    "    return score\n",
    "\n",
    "def get_kevin_scores(str_list):\n",
    "    # consonants\n",
    "    cons_list = get_vowels(str_list)\n",
    "    return cons_list\n",
    "\n",
    "def get_stuart_scores(str_list):\n",
    "    # consonants\n",
    "    cons_list = get_consonants(str_list)\n",
    "    return cons_list\n",
    "    \n",
    "def ch_counter(ch, string):\n",
    "    return string.count(ch)\n",
    "    \n",
    "def minion_game(string):\n",
    "    list_ch = list(string)\n",
    "    if(starts_with_vowel(string)):\n",
    "        return \"Kevin\"\n",
    "    else: \n",
    "        return \"Stuart\"\n",
    "    \n",
    "if __name__ == '__main__':\n",
    "    s = \"banana\"\n",
    "    print(minion_game(s))\n",
    "\n"
   ]
  },
  {
   "cell_type": "code",
   "execution_count": 35,
   "metadata": {},
   "outputs": [],
   "source": [
    "string = \"banana\""
   ]
  },
  {
   "cell_type": "code",
   "execution_count": 36,
   "metadata": {},
   "outputs": [],
   "source": [
    "str_list = list(string)"
   ]
  },
  {
   "cell_type": "code",
   "execution_count": 80,
   "metadata": {},
   "outputs": [
    {
     "data": {
      "text/plain": [
       "3"
      ]
     },
     "execution_count": 80,
     "metadata": {},
     "output_type": "execute_result"
    }
   ],
   "source": [
    "def get_single_cons_scores(str_list,string):\n",
    "    # cons\n",
    "    cons_list = get_cons(str_list)\n",
    "    \n",
    "    score = 0\n",
    "    for elem in cons_list:\n",
    "        score += ch_counter(elem, string)\n",
    "    return score\n",
    "\n",
    "get_single_cons_scores(str_list,string)"
   ]
  },
  {
   "cell_type": "code",
   "execution_count": 45,
   "metadata": {
    "scrolled": true
   },
   "outputs": [
    {
     "name": "stdout",
     "output_type": "stream",
     "text": [
      "1\n",
      "1\n",
      "1\n",
      "1\n",
      "1\n",
      "1\n"
     ]
    }
   ],
   "source": [
    "i = 0\n",
    "while(i <= len(str_list)):\n",
    "    if(i != 0):\n",
    "        print(ch_counter(''.join(str_list[0:i]),string))\n",
    "    i = i + 1"
   ]
  },
  {
   "cell_type": "code",
   "execution_count": 44,
   "metadata": {},
   "outputs": [
    {
     "name": "stdout",
     "output_type": "stream",
     "text": [
      "anana\n"
     ]
    }
   ],
   "source": [
    "i = 0\n",
    "for elem in list_ch:\n",
    "    if(is_vowel(elem)):\n",
    "        print(''.join(list_ch[i:(len(list_ch))]))\n",
    "        break\n",
    "    i = i + 1"
   ]
  },
  {
   "cell_type": "code",
   "execution_count": null,
   "metadata": {},
   "outputs": [],
   "source": []
  }
 ],
 "metadata": {
  "kernelspec": {
   "display_name": "Python 3",
   "language": "python",
   "name": "python3"
  },
  "language_info": {
   "codemirror_mode": {
    "name": "ipython",
    "version": 3
   },
   "file_extension": ".py",
   "mimetype": "text/x-python",
   "name": "python",
   "nbconvert_exporter": "python",
   "pygments_lexer": "ipython3",
   "version": "3.7.3"
  }
 },
 "nbformat": 4,
 "nbformat_minor": 2
}
