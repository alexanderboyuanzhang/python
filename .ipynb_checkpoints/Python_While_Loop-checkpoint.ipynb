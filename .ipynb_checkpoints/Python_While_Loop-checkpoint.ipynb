{
 "cells": [
  {
   "cell_type": "markdown",
   "metadata": {},
   "source": [
    "# Python While Loop"
   ]
  },
  {
   "cell_type": "code",
   "execution_count": 2,
   "metadata": {},
   "outputs": [
    {
     "name": "stdout",
     "output_type": "stream",
     "text": [
      " loop entered 1 times\n",
      "loop ends here\n",
      " loop entered 2 times\n",
      "loop ends here\n",
      " loop entered 3 times\n",
      "loop ends here\n",
      " loop entered 4 times\n",
      "loop ends here\n",
      " loop entered 5 times\n",
      "loop ends here\n",
      " loop entered 6 times\n",
      "loop ends here\n",
      " loop entered 7 times\n",
      "loop ends here\n",
      " loop entered 8 times\n",
      "loop ends here\n",
      " loop entered 9 times\n",
      "loop ends here\n"
     ]
    }
   ],
   "source": [
    "a = 1\n",
    "while(a<10):\n",
    "    print(\" loop entered\", a, \"times\")\n",
    "    a = a+1\n",
    "    print(\"loop ends here\")"
   ]
  },
  {
   "cell_type": "code",
   "execution_count": null,
   "metadata": {},
   "outputs": [],
   "source": [
    "a = 1\n",
    "while a==1:\n",
    "    b = input(\"what's your name?\")\n",
    "    print(\"Hi\", b, \", Welcome to Intellipaat!\")"
   ]
  },
  {
   "cell_type": "code",
   "execution_count": null,
   "metadata": {},
   "outputs": [],
   "source": []
  },
  {
   "cell_type": "code",
   "execution_count": null,
   "metadata": {},
   "outputs": [],
   "source": []
  },
  {
   "cell_type": "code",
   "execution_count": null,
   "metadata": {},
   "outputs": [],
   "source": []
  },
  {
   "cell_type": "code",
   "execution_count": null,
   "metadata": {},
   "outputs": [],
   "source": []
  },
  {
   "cell_type": "code",
   "execution_count": null,
   "metadata": {},
   "outputs": [],
   "source": []
  }
 ],
 "metadata": {
  "kernelspec": {
   "display_name": "Python 3",
   "language": "python",
   "name": "python3"
  },
  "language_info": {
   "codemirror_mode": {
    "name": "ipython",
    "version": 3
   },
   "file_extension": ".py",
   "mimetype": "text/x-python",
   "name": "python",
   "nbconvert_exporter": "python",
   "pygments_lexer": "ipython3",
   "version": "3.7.3"
  }
 },
 "nbformat": 4,
 "nbformat_minor": 2
}
